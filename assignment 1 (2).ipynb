{
 "cells": [
  {
   "cell_type": "markdown",
   "id": "bbe389ca-f1db-4d71-a915-fa47a54580d8",
   "metadata": {},
   "source": [
    "q.1"
   ]
  },
  {
   "cell_type": "code",
   "execution_count": 1,
   "id": "6889d4e9-83cc-4724-a295-af8ff6df5173",
   "metadata": {},
   "outputs": [],
   "source": [
    "x = 5"
   ]
  },
  {
   "cell_type": "code",
   "execution_count": 2,
   "id": "ac8003a2-d068-4145-8fc1-0cc0e7ef0392",
   "metadata": {},
   "outputs": [],
   "source": [
    "y = 10"
   ]
  },
  {
   "cell_type": "code",
   "execution_count": 3,
   "id": "490e3bc3-7033-451d-b615-a41adedec7e7",
   "metadata": {},
   "outputs": [],
   "source": [
    "x = x ^ y"
   ]
  },
  {
   "cell_type": "code",
   "execution_count": 4,
   "id": "e3573ea8-3977-46cf-8da2-b69da646cdcb",
   "metadata": {},
   "outputs": [
    {
     "name": "stdout",
     "output_type": "stream",
     "text": [
      "After swapping:\n"
     ]
    }
   ],
   "source": [
    "print(\"After swapping:\")"
   ]
  },
  {
   "cell_type": "code",
   "execution_count": 5,
   "id": "8899c38c-cc8d-4d2b-8e0d-73ee0f0907ae",
   "metadata": {},
   "outputs": [
    {
     "name": "stdout",
     "output_type": "stream",
     "text": [
      "x = 15\n"
     ]
    }
   ],
   "source": [
    "print(\"x =\", x)"
   ]
  },
  {
   "cell_type": "code",
   "execution_count": 6,
   "id": "84a0367b-3c14-48f4-ad92-d6fbe0dff2ba",
   "metadata": {},
   "outputs": [
    {
     "name": "stdout",
     "output_type": "stream",
     "text": [
      "y = 10\n"
     ]
    }
   ],
   "source": [
    "print(\"y =\", y)"
   ]
  },
  {
   "cell_type": "markdown",
   "id": "f95f17d3-41e9-442f-89d4-3d94da695458",
   "metadata": {},
   "source": [
    "q.2"
   ]
  },
  {
   "cell_type": "code",
   "execution_count": 7,
   "id": "2b3b7e59-f684-42db-861a-a5c1d8518ee1",
   "metadata": {},
   "outputs": [],
   "source": [
    "# Taking input from the user for length and width"
   ]
  },
  {
   "cell_type": "code",
   "execution_count": 8,
   "id": "0ef69b75-542d-4aa8-b671-3c344944ac4f",
   "metadata": {},
   "outputs": [
    {
     "name": "stdin",
     "output_type": "stream",
     "text": [
      "Enter the length of the rectangle:  30\n"
     ]
    }
   ],
   "source": [
    "length = float(input(\"Enter the length of the rectangle: \"))"
   ]
  },
  {
   "cell_type": "code",
   "execution_count": 9,
   "id": "aec9327b-5ac5-4b30-a2e6-4cded717269a",
   "metadata": {},
   "outputs": [
    {
     "name": "stdin",
     "output_type": "stream",
     "text": [
      "Enter the width of the rectangle:  40\n"
     ]
    }
   ],
   "source": [
    "width = float(input(\"Enter the width of the rectangle: \"))"
   ]
  },
  {
   "cell_type": "code",
   "execution_count": 10,
   "id": "85f40540-e866-47cc-878a-a8c8d3fa328e",
   "metadata": {},
   "outputs": [],
   "source": [
    "# Calculating the area of the rectangle"
   ]
  },
  {
   "cell_type": "code",
   "execution_count": 11,
   "id": "cddcb456-ec9a-45f4-8ebf-98530736c28a",
   "metadata": {},
   "outputs": [],
   "source": [
    "area = length * width"
   ]
  },
  {
   "cell_type": "code",
   "execution_count": 12,
   "id": "d331fcab-2464-4903-a29c-91bfcbce2909",
   "metadata": {},
   "outputs": [],
   "source": [
    "# Displaying the calculated area"
   ]
  },
  {
   "cell_type": "code",
   "execution_count": 13,
   "id": "2a3966b2-9597-47ba-8af3-08c95ce0656a",
   "metadata": {},
   "outputs": [
    {
     "name": "stdout",
     "output_type": "stream",
     "text": [
      "The area of the rectangle is: 1200.0\n"
     ]
    }
   ],
   "source": [
    "print(\"The area of the rectangle is:\", area)"
   ]
  },
  {
   "cell_type": "markdown",
   "id": "dd62a442-d5e1-422d-b779-41e0d461be96",
   "metadata": {},
   "source": [
    "q.3"
   ]
  },
  {
   "cell_type": "code",
   "execution_count": 14,
   "id": "bac7df94-b087-4e84-869d-74527d5d98a7",
   "metadata": {},
   "outputs": [],
   "source": [
    "# Taking input for temperature in Celsius"
   ]
  },
  {
   "cell_type": "code",
   "execution_count": 15,
   "id": "1bd034dc-efda-46a7-95fe-8166f2831f73",
   "metadata": {},
   "outputs": [
    {
     "name": "stdin",
     "output_type": "stream",
     "text": [
      "Enter temperature in Celsius: 27\n"
     ]
    }
   ],
   "source": [
    "celsius=float(input(\"Enter temperature in Celsius:\"))"
   ]
  },
  {
   "cell_type": "code",
   "execution_count": 16,
   "id": "8cf761b1-b4d3-4c77-95b2-56f647245f53",
   "metadata": {},
   "outputs": [],
   "source": [
    "# Converting Celsius to fahrenheit"
   ]
  },
  {
   "cell_type": "code",
   "execution_count": 18,
   "id": "374247fb-8e56-4b7a-81b5-b9eab09f80c7",
   "metadata": {},
   "outputs": [],
   "source": [
    "fahrenheit=(celsius *9/5)+32"
   ]
  },
  {
   "cell_type": "code",
   "execution_count": 19,
   "id": "01fb4a2d-34ea-480d-bed9-454199cddf6f",
   "metadata": {},
   "outputs": [],
   "source": [
    "# Displaying the converted temperature"
   ]
  },
  {
   "cell_type": "code",
   "execution_count": 20,
   "id": "73ca63a0-06b8-41c4-8144-787b7cb71bd9",
   "metadata": {},
   "outputs": [
    {
     "name": "stdout",
     "output_type": "stream",
     "text": [
      "Temperature in Fahrenheit: 80.6\n"
     ]
    }
   ],
   "source": [
    "print(\"Temperature in Fahrenheit:\",fahrenheit)"
   ]
  },
  {
   "cell_type": "markdown",
   "id": "a46c9c96-4dbe-4e98-b3cc-19163594193c",
   "metadata": {},
   "source": [
    "string based question\n",
    "q.1"
   ]
  },
  {
   "cell_type": "code",
   "execution_count": 21,
   "id": "6039ef18-ea13-4dc0-8971-74bb2247bd0e",
   "metadata": {},
   "outputs": [],
   "source": [
    "# Taking input from the user"
   ]
  },
  {
   "cell_type": "code",
   "execution_count": 22,
   "id": "c57e2970-58a0-4d22-8183-9f98014b6231",
   "metadata": {},
   "outputs": [
    {
     "name": "stdin",
     "output_type": "stream",
     "text": [
      "Enter a string: 10\n"
     ]
    }
   ],
   "source": [
    "input_string=input(\"Enter a string:\")"
   ]
  },
  {
   "cell_type": "code",
   "execution_count": 23,
   "id": "a658d93f-1e6a-4886-a2a6-b6a80613be8b",
   "metadata": {},
   "outputs": [],
   "source": [
    "# Calculating the length of the string"
   ]
  },
  {
   "cell_type": "code",
   "execution_count": 24,
   "id": "fe2d6f07-05e7-472a-a6f5-df677e2556b8",
   "metadata": {},
   "outputs": [],
   "source": [
    "length = len(input_string)"
   ]
  },
  {
   "cell_type": "code",
   "execution_count": 25,
   "id": "55da8210-d297-4d84-9219-daadcbb65405",
   "metadata": {},
   "outputs": [],
   "source": [
    "#Displaying the length of the string"
   ]
  },
  {
   "cell_type": "code",
   "execution_count": 26,
   "id": "7fb838ba-2be3-4412-89f7-5ccd952cdd95",
   "metadata": {},
   "outputs": [
    {
     "name": "stdout",
     "output_type": "stream",
     "text": [
      " Length of the string: 2\n"
     ]
    }
   ],
   "source": [
    "print(\" Length of the string:\", length)"
   ]
  },
  {
   "cell_type": "markdown",
   "id": "f05c5355-c1da-4eff-a841-e9d937b821ce",
   "metadata": {},
   "source": [
    "q.2"
   ]
  },
  {
   "cell_type": "code",
   "execution_count": 27,
   "id": "f1996f10-44c9-48ae-bc64-10991e18bbe2",
   "metadata": {},
   "outputs": [],
   "source": [
    "# Taking input from the user"
   ]
  },
  {
   "cell_type": "code",
   "execution_count": 28,
   "id": "044d5560-02ac-4765-a59d-d262306fd3e3",
   "metadata": {},
   "outputs": [
    {
     "name": "stdin",
     "output_type": "stream",
     "text": [
      "Enter a sentence:  siddharth\n"
     ]
    }
   ],
   "source": [
    "sentence = input(\"Enter a sentence: \")"
   ]
  },
  {
   "cell_type": "code",
   "execution_count": 29,
   "id": "01e321d4-2843-4958-94bb-b7902fe1a0fe",
   "metadata": {},
   "outputs": [],
   "source": [
    "# Converting the sentence to lowercase for case-insensitive matching"
   ]
  },
  {
   "cell_type": "code",
   "execution_count": 30,
   "id": "cb001646-f7f9-4844-bcce-38038c834364",
   "metadata": {},
   "outputs": [],
   "source": [
    "sentence = sentence.lower()"
   ]
  },
  {
   "cell_type": "code",
   "execution_count": 31,
   "id": "b917fd7f-2e11-4b09-a0d1-f4862df948c1",
   "metadata": {},
   "outputs": [],
   "source": [
    "# Initializing counters for each vowel"
   ]
  },
  {
   "cell_type": "code",
   "execution_count": 32,
   "id": "c075c307-9558-43a7-bd7f-7c2cb854ff6f",
   "metadata": {},
   "outputs": [],
   "source": [
    "count_a = count_e = count_i = count_o = count_u = 0"
   ]
  },
  {
   "cell_type": "code",
   "execution_count": 33,
   "id": "ebf87ad3-5104-42f7-999b-ea97e6932a84",
   "metadata": {},
   "outputs": [],
   "source": [
    "# Counting the vowels in the sentence"
   ]
  },
  {
   "cell_type": "code",
   "execution_count": 35,
   "id": "85af6d6e-6b10-42ac-89a6-52e65aa88a6c",
   "metadata": {},
   "outputs": [],
   "source": [
    "for char in sentence:\n",
    "    if char == 'a':\n",
    "        count_a += 1\n",
    "    elif char == 'e':\n",
    "        count_e += 1\n",
    "    elif char == 'i':\n",
    "        count_i += 1\n",
    "    elif char == 'o':\n",
    "        count_o += 1\n",
    "    elif char == 'u':\n",
    "        count_u += 1"
   ]
  },
  {
   "cell_type": "code",
   "execution_count": 36,
   "id": "def30b38-489b-48c1-ad69-965db8584bfb",
   "metadata": {},
   "outputs": [],
   "source": [
    "# Displaying the counts of each vowel"
   ]
  },
  {
   "cell_type": "code",
   "execution_count": 37,
   "id": "0b50281c-b420-40d0-be98-5f34eccdf715",
   "metadata": {},
   "outputs": [
    {
     "name": "stdout",
     "output_type": "stream",
     "text": [
      "Number of 'a' in the sentence: 1\n",
      "Number of 'e' in the sentence: 0\n",
      "Number of 'i' in the sentence: 1\n",
      "Number of 'o' in the sentence: 0\n",
      "Number of 'u' in the sentence: 0\n"
     ]
    }
   ],
   "source": [
    "print(\"Number of 'a' in the sentence:\", count_a)\n",
    "print(\"Number of 'e' in the sentence:\", count_e)\n",
    "print(\"Number of 'i' in the sentence:\", count_i)\n",
    "print(\"Number of 'o' in the sentence:\", count_o)\n",
    "print(\"Number of 'u' in the sentence:\", count_u)"
   ]
  },
  {
   "cell_type": "code",
   "execution_count": 38,
   "id": "c62981c9-9dd6-4000-aa92-aced6bdb212b",
   "metadata": {},
   "outputs": [],
   "source": [
    "# Total count of all vowels"
   ]
  },
  {
   "cell_type": "code",
   "execution_count": 39,
   "id": "2aba738c-4337-4f27-ae7b-0c1618d4b34e",
   "metadata": {},
   "outputs": [],
   "source": [
    "total_vowels = count_a + count_e + count_i + count_o + count_u"
   ]
  },
  {
   "cell_type": "code",
   "execution_count": 40,
   "id": "302eaf7b-fd6b-46c0-9051-795a00b7e527",
   "metadata": {},
   "outputs": [
    {
     "name": "stdout",
     "output_type": "stream",
     "text": [
      "Total number of vowels in the sentence: 2\n"
     ]
    }
   ],
   "source": [
    "print(\"Total number of vowels in the sentence:\", total_vowels)"
   ]
  },
  {
   "cell_type": "markdown",
   "id": "b7767453-15cb-47a7-8fd4-9bc2bb642cba",
   "metadata": {},
   "source": [
    "q.3"
   ]
  },
  {
   "cell_type": "code",
   "execution_count": 41,
   "id": "d5a29691-9d52-46db-9b25-844364d95bca",
   "metadata": {},
   "outputs": [
    {
     "name": "stdin",
     "output_type": "stream",
     "text": [
      "Enter a string:  10\n"
     ]
    }
   ],
   "source": [
    "input_string = input(\"Enter a string: \")"
   ]
  },
  {
   "cell_type": "code",
   "execution_count": 42,
   "id": "2c1241fb-674e-4ca3-99c5-075430928e74",
   "metadata": {},
   "outputs": [],
   "source": [
    "#Taking input from the user"
   ]
  },
  {
   "cell_type": "code",
   "execution_count": 43,
   "id": "c0e1952f-faef-422d-8970-783549c42439",
   "metadata": {},
   "outputs": [],
   "source": [
    "# Reversing the string using string slicing"
   ]
  },
  {
   "cell_type": "code",
   "execution_count": 44,
   "id": "5143db95-c1bd-48c0-aad7-fd60d7c48475",
   "metadata": {},
   "outputs": [],
   "source": [
    "reversed_string = input_string[::-1]"
   ]
  },
  {
   "cell_type": "code",
   "execution_count": 45,
   "id": "8e8d8000-2f05-4b93-93f0-c91816248ba0",
   "metadata": {},
   "outputs": [],
   "source": [
    "#Displaying the reversed string"
   ]
  },
  {
   "cell_type": "code",
   "execution_count": 46,
   "id": "28912c7a-cb8f-4f83-9da2-ee0755beaee1",
   "metadata": {},
   "outputs": [
    {
     "name": "stdout",
     "output_type": "stream",
     "text": [
      "Reversed string: 01\n"
     ]
    }
   ],
   "source": [
    "print(\"Reversed string:\", reversed_string)"
   ]
  },
  {
   "cell_type": "markdown",
   "id": "a6fc7e2f-9a52-4218-8e4d-798d1716906f",
   "metadata": {},
   "source": [
    "q.4"
   ]
  },
  {
   "cell_type": "code",
   "execution_count": 48,
   "id": "ee474b6d-2967-4964-a2b4-f52c0cacab54",
   "metadata": {},
   "outputs": [
    {
     "name": "stdin",
     "output_type": "stream",
     "text": [
      "Enter a string:  50\n"
     ]
    },
    {
     "name": "stdout",
     "output_type": "stream",
     "text": [
      "The input string is not a palindrome.\n"
     ]
    }
   ],
   "source": [
    "def is_palindrome(input_str):\n",
    "    # Removing spaces and converting to lowercase for comparison\n",
    "    clean_str = input_str.replace(\" \", \"\").lower()\n",
    "    \n",
    "    # Reversing the cleaned string\n",
    "    reversed_str = clean_str[::-1]\n",
    "    \n",
    "    # Checking if the original and reversed strings are the same\n",
    "    return clean_str == reversed_str\n",
    "\n",
    "# Taking input from the user\n",
    "input_string = input(\"Enter a string: \")\n",
    "\n",
    "# Checking if the input string is a palindrome\n",
    "if is_palindrome(input_string):\n",
    "    print(\"The input string is a palindrome.\")\n",
    "else:\n",
    "    print(\"The input string is not a palindrome.\")\n"
   ]
  },
  {
   "cell_type": "markdown",
   "id": "21aa0075-6112-4399-9df1-d47e92ef769b",
   "metadata": {},
   "source": [
    "q.5"
   ]
  },
  {
   "cell_type": "code",
   "execution_count": 50,
   "id": "1c818b18-c7c2-4e46-9ccc-6bd7d2adc510",
   "metadata": {},
   "outputs": [
    {
     "name": "stdin",
     "output_type": "stream",
     "text": [
      "Enter a string:  siddharth\n"
     ]
    },
    {
     "name": "stdout",
     "output_type": "stream",
     "text": [
      "Modified string without spaces: siddharth\n"
     ]
    }
   ],
   "source": [
    "def remove_spaces(input_str):\n",
    "    return input_str.replace(\" \", \"\")\n",
    "\n",
    "# Taking input from the user\n",
    "input_string = input(\"Enter a string: \")\n",
    "\n",
    "# Removing spaces from the input string\n",
    "modified_string = remove_spaces(input_string)\n",
    "\n",
    "# Printing the modified string without spaces\n",
    "print(\"Modified string without spaces:\", modified_string)\n",
    "\n"
   ]
  },
  {
   "cell_type": "code",
   "execution_count": null,
   "id": "ab9a7974-b134-4fd8-8a9e-cfcaeac600c1",
   "metadata": {},
   "outputs": [],
   "source": []
  }
 ],
 "metadata": {
  "kernelspec": {
   "display_name": "Python 3 (ipykernel)",
   "language": "python",
   "name": "python3"
  },
  "language_info": {
   "codemirror_mode": {
    "name": "ipython",
    "version": 3
   },
   "file_extension": ".py",
   "mimetype": "text/x-python",
   "name": "python",
   "nbconvert_exporter": "python",
   "pygments_lexer": "ipython3",
   "version": "3.10.8"
  }
 },
 "nbformat": 4,
 "nbformat_minor": 5
}
